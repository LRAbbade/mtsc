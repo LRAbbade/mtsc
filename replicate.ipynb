{
 "cells": [
  {
   "cell_type": "code",
   "execution_count": 61,
   "id": "9b1278f7",
   "metadata": {},
   "outputs": [],
   "source": [
    "import numpy as np\n",
    "import pandas as pd\n",
    "import sktime\n",
    "from sktime.datasets import load_from_tsfile\n",
    "from sktime.transformations.panel.rocket import Rocket\n",
    "from sklearn.linear_model import RidgeClassifierCV, RidgeClassifier\n",
    "from sklearn.metrics import (accuracy_score, roc_auc_score, f1_score, confusion_matrix,\n",
    "                             ConfusionMatrixDisplay, precision_score, recall_score)\n",
    "import xgboost as xgb"
   ]
  },
  {
   "cell_type": "markdown",
   "id": "c990e156",
   "metadata": {},
   "source": [
    "### Replicating results from [paper](https://link.springer.com/article/10.1007/s10618-020-00727-3)"
   ]
  },
  {
   "cell_type": "code",
   "execution_count": 1,
   "id": "a764a833",
   "metadata": {},
   "outputs": [
    {
     "name": "stdout",
     "output_type": "stream",
     "text": [
      "AtrialFibrillation\n",
      "Epilepsy\n",
      "FaceDetection\n",
      "Heartbeat\n"
     ]
    }
   ],
   "source": [
    "!ls data"
   ]
  },
  {
   "cell_type": "code",
   "execution_count": 2,
   "id": "ab5a81d8",
   "metadata": {},
   "outputs": [
    {
     "name": "stdout",
     "output_type": "stream",
     "text": [
      "Epilepsy.jpg\n",
      "Epilepsy.txt\n",
      "Epilepsy_TEST.arff\n",
      "Epilepsy_TEST.ts\n",
      "Epilepsy_TRAIN.arff\n",
      "Epilepsy_TRAIN.ts\n",
      "EpilepsyDimension1_TEST.arff\n",
      "EpilepsyDimension1_TRAIN.arff\n",
      "EpilepsyDimension2_TEST.arff\n",
      "EpilepsyDimension2_TRAIN.arff\n",
      "EpilepsyDimension3_TEST.arff\n",
      "EpilepsyDimension3_TRAIN.arff\n"
     ]
    }
   ],
   "source": [
    "!ls data/Epilepsy"
   ]
  },
  {
   "cell_type": "code",
   "execution_count": 81,
   "id": "d438b676",
   "metadata": {},
   "outputs": [],
   "source": [
    "X_train, y_train = load_from_tsfile('data/Epilepsy/Epilepsy_TRAIN.ts')"
   ]
  },
  {
   "cell_type": "code",
   "execution_count": 82,
   "id": "27125b51",
   "metadata": {},
   "outputs": [
    {
     "data": {
      "text/plain": [
       "0      0.35\n",
       "1      0.40\n",
       "2      0.44\n",
       "3      0.47\n",
       "4      0.48\n",
       "       ... \n",
       "201    0.58\n",
       "202    0.61\n",
       "203    0.62\n",
       "204    0.65\n",
       "205    0.69\n",
       "Length: 206, dtype: float64"
      ]
     },
     "execution_count": 82,
     "metadata": {},
     "output_type": "execute_result"
    }
   ],
   "source": [
    "X_train.iloc[0, 0]"
   ]
  },
  {
   "cell_type": "code",
   "execution_count": 83,
   "id": "d1981eba",
   "metadata": {},
   "outputs": [
    {
     "data": {
      "text/html": [
       "<div>\n",
       "<style scoped>\n",
       "    .dataframe tbody tr th:only-of-type {\n",
       "        vertical-align: middle;\n",
       "    }\n",
       "\n",
       "    .dataframe tbody tr th {\n",
       "        vertical-align: top;\n",
       "    }\n",
       "\n",
       "    .dataframe thead th {\n",
       "        text-align: right;\n",
       "    }\n",
       "</style>\n",
       "<table border=\"1\" class=\"dataframe\">\n",
       "  <thead>\n",
       "    <tr style=\"text-align: right;\">\n",
       "      <th></th>\n",
       "      <th>dim_0</th>\n",
       "      <th>dim_1</th>\n",
       "      <th>dim_2</th>\n",
       "    </tr>\n",
       "  </thead>\n",
       "  <tbody>\n",
       "    <tr>\n",
       "      <th>0</th>\n",
       "      <td>0      0.35\n",
       "1      0.40\n",
       "2      0.44\n",
       "3      0.4...</td>\n",
       "      <td>0      0.22\n",
       "1      0.01\n",
       "2     -0.71\n",
       "3     -0.3...</td>\n",
       "      <td>0      0.55\n",
       "1      0.51\n",
       "2      0.52\n",
       "3      0.4...</td>\n",
       "    </tr>\n",
       "    <tr>\n",
       "      <th>1</th>\n",
       "      <td>0     -0.91\n",
       "1     -0.92\n",
       "2     -0.95\n",
       "3     -0.9...</td>\n",
       "      <td>0     -0.05\n",
       "1     -0.02\n",
       "2      0.01\n",
       "3      0.0...</td>\n",
       "      <td>0      0.06\n",
       "1     -1.57\n",
       "2     -0.99\n",
       "3      0.2...</td>\n",
       "    </tr>\n",
       "    <tr>\n",
       "      <th>2</th>\n",
       "      <td>0      0.32\n",
       "1      0.71\n",
       "2      0.70\n",
       "3      0.7...</td>\n",
       "      <td>0      1.00\n",
       "1     -1.33\n",
       "2     -1.44\n",
       "3     -0.1...</td>\n",
       "      <td>0      0.37\n",
       "1      0.37\n",
       "2      0.37\n",
       "3      0.3...</td>\n",
       "    </tr>\n",
       "    <tr>\n",
       "      <th>3</th>\n",
       "      <td>0     -0.68\n",
       "1     -0.36\n",
       "2     -0.13\n",
       "3     -0.3...</td>\n",
       "      <td>0     -1.69\n",
       "1     -0.58\n",
       "2      1.05\n",
       "3     -0.1...</td>\n",
       "      <td>0      0.31\n",
       "1      0.31\n",
       "2      0.32\n",
       "3      0.0...</td>\n",
       "    </tr>\n",
       "    <tr>\n",
       "      <th>4</th>\n",
       "      <td>0      0.34\n",
       "1      0.53\n",
       "2      0.58\n",
       "3      0.6...</td>\n",
       "      <td>0     -0.89\n",
       "1      1.17\n",
       "2      1.00\n",
       "3     -1.8...</td>\n",
       "      <td>0      0.45\n",
       "1     -0.05\n",
       "2     -0.17\n",
       "3     -0.4...</td>\n",
       "    </tr>\n",
       "    <tr>\n",
       "      <th>...</th>\n",
       "      <td>...</td>\n",
       "      <td>...</td>\n",
       "      <td>...</td>\n",
       "    </tr>\n",
       "    <tr>\n",
       "      <th>132</th>\n",
       "      <td>0      0.45\n",
       "1     -0.28\n",
       "2      0.28\n",
       "3      1.3...</td>\n",
       "      <td>0     -0.21\n",
       "1     -1.20\n",
       "2     -1.26\n",
       "3     -0.4...</td>\n",
       "      <td>0     -0.58\n",
       "1     -0.87\n",
       "2     -0.38\n",
       "3     -0.0...</td>\n",
       "    </tr>\n",
       "    <tr>\n",
       "      <th>133</th>\n",
       "      <td>0      0.24\n",
       "1     -0.79\n",
       "2     -0.65\n",
       "3      0.0...</td>\n",
       "      <td>0      0.50\n",
       "1      0.69\n",
       "2      0.86\n",
       "3      0.6...</td>\n",
       "      <td>0     -0.99\n",
       "1     -0.99\n",
       "2     -0.65\n",
       "3     -0.4...</td>\n",
       "    </tr>\n",
       "    <tr>\n",
       "      <th>134</th>\n",
       "      <td>0      1.16\n",
       "1     -0.02\n",
       "2     -1.04\n",
       "3     -0.8...</td>\n",
       "      <td>0      0.90\n",
       "1      0.59\n",
       "2      0.52\n",
       "3      0.2...</td>\n",
       "      <td>0     -1.03\n",
       "1     -1.11\n",
       "2     -0.88\n",
       "3     -0.9...</td>\n",
       "    </tr>\n",
       "    <tr>\n",
       "      <th>135</th>\n",
       "      <td>0     -0.74\n",
       "1     -0.14\n",
       "2      0.12\n",
       "3     -0.0...</td>\n",
       "      <td>0     -0.19\n",
       "1     -0.24\n",
       "2     -0.34\n",
       "3     -0.6...</td>\n",
       "      <td>0     -0.14\n",
       "1     -0.26\n",
       "2     -0.27\n",
       "3     -0.3...</td>\n",
       "    </tr>\n",
       "    <tr>\n",
       "      <th>136</th>\n",
       "      <td>0      1.06\n",
       "1      1.14\n",
       "2      0.37\n",
       "3     -0.2...</td>\n",
       "      <td>0     -1.40\n",
       "1     -1.13\n",
       "2     -0.59\n",
       "3     -0.3...</td>\n",
       "      <td>0     -0.26\n",
       "1     -0.22\n",
       "2     -0.48\n",
       "3     -0.5...</td>\n",
       "    </tr>\n",
       "  </tbody>\n",
       "</table>\n",
       "<p>137 rows × 3 columns</p>\n",
       "</div>"
      ],
      "text/plain": [
       "                                                 dim_0  \\\n",
       "0    0      0.35\n",
       "1      0.40\n",
       "2      0.44\n",
       "3      0.4...   \n",
       "1    0     -0.91\n",
       "1     -0.92\n",
       "2     -0.95\n",
       "3     -0.9...   \n",
       "2    0      0.32\n",
       "1      0.71\n",
       "2      0.70\n",
       "3      0.7...   \n",
       "3    0     -0.68\n",
       "1     -0.36\n",
       "2     -0.13\n",
       "3     -0.3...   \n",
       "4    0      0.34\n",
       "1      0.53\n",
       "2      0.58\n",
       "3      0.6...   \n",
       "..                                                 ...   \n",
       "132  0      0.45\n",
       "1     -0.28\n",
       "2      0.28\n",
       "3      1.3...   \n",
       "133  0      0.24\n",
       "1     -0.79\n",
       "2     -0.65\n",
       "3      0.0...   \n",
       "134  0      1.16\n",
       "1     -0.02\n",
       "2     -1.04\n",
       "3     -0.8...   \n",
       "135  0     -0.74\n",
       "1     -0.14\n",
       "2      0.12\n",
       "3     -0.0...   \n",
       "136  0      1.06\n",
       "1      1.14\n",
       "2      0.37\n",
       "3     -0.2...   \n",
       "\n",
       "                                                 dim_1  \\\n",
       "0    0      0.22\n",
       "1      0.01\n",
       "2     -0.71\n",
       "3     -0.3...   \n",
       "1    0     -0.05\n",
       "1     -0.02\n",
       "2      0.01\n",
       "3      0.0...   \n",
       "2    0      1.00\n",
       "1     -1.33\n",
       "2     -1.44\n",
       "3     -0.1...   \n",
       "3    0     -1.69\n",
       "1     -0.58\n",
       "2      1.05\n",
       "3     -0.1...   \n",
       "4    0     -0.89\n",
       "1      1.17\n",
       "2      1.00\n",
       "3     -1.8...   \n",
       "..                                                 ...   \n",
       "132  0     -0.21\n",
       "1     -1.20\n",
       "2     -1.26\n",
       "3     -0.4...   \n",
       "133  0      0.50\n",
       "1      0.69\n",
       "2      0.86\n",
       "3      0.6...   \n",
       "134  0      0.90\n",
       "1      0.59\n",
       "2      0.52\n",
       "3      0.2...   \n",
       "135  0     -0.19\n",
       "1     -0.24\n",
       "2     -0.34\n",
       "3     -0.6...   \n",
       "136  0     -1.40\n",
       "1     -1.13\n",
       "2     -0.59\n",
       "3     -0.3...   \n",
       "\n",
       "                                                 dim_2  \n",
       "0    0      0.55\n",
       "1      0.51\n",
       "2      0.52\n",
       "3      0.4...  \n",
       "1    0      0.06\n",
       "1     -1.57\n",
       "2     -0.99\n",
       "3      0.2...  \n",
       "2    0      0.37\n",
       "1      0.37\n",
       "2      0.37\n",
       "3      0.3...  \n",
       "3    0      0.31\n",
       "1      0.31\n",
       "2      0.32\n",
       "3      0.0...  \n",
       "4    0      0.45\n",
       "1     -0.05\n",
       "2     -0.17\n",
       "3     -0.4...  \n",
       "..                                                 ...  \n",
       "132  0     -0.58\n",
       "1     -0.87\n",
       "2     -0.38\n",
       "3     -0.0...  \n",
       "133  0     -0.99\n",
       "1     -0.99\n",
       "2     -0.65\n",
       "3     -0.4...  \n",
       "134  0     -1.03\n",
       "1     -1.11\n",
       "2     -0.88\n",
       "3     -0.9...  \n",
       "135  0     -0.14\n",
       "1     -0.26\n",
       "2     -0.27\n",
       "3     -0.3...  \n",
       "136  0     -0.26\n",
       "1     -0.22\n",
       "2     -0.48\n",
       "3     -0.5...  \n",
       "\n",
       "[137 rows x 3 columns]"
      ]
     },
     "execution_count": 83,
     "metadata": {},
     "output_type": "execute_result"
    }
   ],
   "source": [
    "X_train"
   ]
  },
  {
   "cell_type": "code",
   "execution_count": 13,
   "id": "c41e8fe9",
   "metadata": {},
   "outputs": [],
   "source": [
    "X_test, y_test = load_from_tsfile('data/Epilepsy/Epilepsy_TEST.ts')"
   ]
  },
  {
   "cell_type": "code",
   "execution_count": 27,
   "id": "6d4558d7",
   "metadata": {},
   "outputs": [],
   "source": [
    "rocket = Rocket()"
   ]
  },
  {
   "cell_type": "code",
   "execution_count": 28,
   "id": "550419bd",
   "metadata": {},
   "outputs": [
    {
     "name": "stdout",
     "output_type": "stream",
     "text": [
      "CPU times: total: 1.25 s\n",
      "Wall time: 1.21 s\n"
     ]
    },
    {
     "data": {
      "text/html": [
       "<style>#sk-container-id-4 {color: black;background-color: white;}#sk-container-id-4 pre{padding: 0;}#sk-container-id-4 div.sk-toggleable {background-color: white;}#sk-container-id-4 label.sk-toggleable__label {cursor: pointer;display: block;width: 100%;margin-bottom: 0;padding: 0.3em;box-sizing: border-box;text-align: center;}#sk-container-id-4 label.sk-toggleable__label-arrow:before {content: \"▸\";float: left;margin-right: 0.25em;color: #696969;}#sk-container-id-4 label.sk-toggleable__label-arrow:hover:before {color: black;}#sk-container-id-4 div.sk-estimator:hover label.sk-toggleable__label-arrow:before {color: black;}#sk-container-id-4 div.sk-toggleable__content {max-height: 0;max-width: 0;overflow: hidden;text-align: left;background-color: #f0f8ff;}#sk-container-id-4 div.sk-toggleable__content pre {margin: 0.2em;color: black;border-radius: 0.25em;background-color: #f0f8ff;}#sk-container-id-4 input.sk-toggleable__control:checked~div.sk-toggleable__content {max-height: 200px;max-width: 100%;overflow: auto;}#sk-container-id-4 input.sk-toggleable__control:checked~label.sk-toggleable__label-arrow:before {content: \"▾\";}#sk-container-id-4 div.sk-estimator input.sk-toggleable__control:checked~label.sk-toggleable__label {background-color: #d4ebff;}#sk-container-id-4 div.sk-label input.sk-toggleable__control:checked~label.sk-toggleable__label {background-color: #d4ebff;}#sk-container-id-4 input.sk-hidden--visually {border: 0;clip: rect(1px 1px 1px 1px);clip: rect(1px, 1px, 1px, 1px);height: 1px;margin: -1px;overflow: hidden;padding: 0;position: absolute;width: 1px;}#sk-container-id-4 div.sk-estimator {font-family: monospace;background-color: #f0f8ff;border: 1px dotted black;border-radius: 0.25em;box-sizing: border-box;margin-bottom: 0.5em;}#sk-container-id-4 div.sk-estimator:hover {background-color: #d4ebff;}#sk-container-id-4 div.sk-parallel-item::after {content: \"\";width: 100%;border-bottom: 1px solid gray;flex-grow: 1;}#sk-container-id-4 div.sk-label:hover label.sk-toggleable__label {background-color: #d4ebff;}#sk-container-id-4 div.sk-serial::before {content: \"\";position: absolute;border-left: 1px solid gray;box-sizing: border-box;top: 0;bottom: 0;left: 50%;z-index: 0;}#sk-container-id-4 div.sk-serial {display: flex;flex-direction: column;align-items: center;background-color: white;padding-right: 0.2em;padding-left: 0.2em;position: relative;}#sk-container-id-4 div.sk-item {position: relative;z-index: 1;}#sk-container-id-4 div.sk-parallel {display: flex;align-items: stretch;justify-content: center;background-color: white;position: relative;}#sk-container-id-4 div.sk-item::before, #sk-container-id-4 div.sk-parallel-item::before {content: \"\";position: absolute;border-left: 1px solid gray;box-sizing: border-box;top: 0;bottom: 0;left: 50%;z-index: -1;}#sk-container-id-4 div.sk-parallel-item {display: flex;flex-direction: column;z-index: 1;position: relative;background-color: white;}#sk-container-id-4 div.sk-parallel-item:first-child::after {align-self: flex-end;width: 50%;}#sk-container-id-4 div.sk-parallel-item:last-child::after {align-self: flex-start;width: 50%;}#sk-container-id-4 div.sk-parallel-item:only-child::after {width: 0;}#sk-container-id-4 div.sk-dashed-wrapped {border: 1px dashed gray;margin: 0 0.4em 0.5em 0.4em;box-sizing: border-box;padding-bottom: 0.4em;background-color: white;}#sk-container-id-4 div.sk-label label {font-family: monospace;font-weight: bold;display: inline-block;line-height: 1.2em;}#sk-container-id-4 div.sk-label-container {text-align: center;}#sk-container-id-4 div.sk-container {/* jupyter's `normalize.less` sets `[hidden] { display: none; }` but bootstrap.min.css set `[hidden] { display: none !important; }` so we also need the `!important` here to be able to override the default hidden behavior on the sphinx rendered scikit-learn.org. See: https://github.com/scikit-learn/scikit-learn/issues/21755 */display: inline-block !important;position: relative;}#sk-container-id-4 div.sk-text-repr-fallback {display: none;}</style><div id=\"sk-container-id-4\" class=\"sk-top-container\"><div class=\"sk-text-repr-fallback\"><pre>Rocket()</pre><b>In a Jupyter environment, please rerun this cell to show the HTML representation or trust the notebook. <br />On GitHub, the HTML representation is unable to render, please try loading this page with nbviewer.org.</b></div><div class=\"sk-container\" hidden><div class=\"sk-item\"><div class=\"sk-estimator sk-toggleable\"><input class=\"sk-toggleable__control sk-hidden--visually\" id=\"sk-estimator-id-4\" type=\"checkbox\" checked><label for=\"sk-estimator-id-4\" class=\"sk-toggleable__label sk-toggleable__label-arrow\">Rocket</label><div class=\"sk-toggleable__content\"><pre>Rocket()</pre></div></div></div></div></div>"
      ],
      "text/plain": [
       "Rocket()"
      ]
     },
     "execution_count": 28,
     "metadata": {},
     "output_type": "execute_result"
    }
   ],
   "source": [
    "%%time\n",
    "rocket.fit(X_train)"
   ]
  },
  {
   "cell_type": "code",
   "execution_count": 31,
   "id": "ddb285e8",
   "metadata": {},
   "outputs": [
    {
     "name": "stdout",
     "output_type": "stream",
     "text": [
      "CPU times: total: 7.47 s\n",
      "Wall time: 7.46 s\n"
     ]
    }
   ],
   "source": [
    "%%time\n",
    "X_train_transform = rocket.transform(X_train)"
   ]
  },
  {
   "cell_type": "code",
   "execution_count": 32,
   "id": "a3d3f7bb",
   "metadata": {},
   "outputs": [
    {
     "data": {
      "text/html": [
       "<div>\n",
       "<style scoped>\n",
       "    .dataframe tbody tr th:only-of-type {\n",
       "        vertical-align: middle;\n",
       "    }\n",
       "\n",
       "    .dataframe tbody tr th {\n",
       "        vertical-align: top;\n",
       "    }\n",
       "\n",
       "    .dataframe thead th {\n",
       "        text-align: right;\n",
       "    }\n",
       "</style>\n",
       "<table border=\"1\" class=\"dataframe\">\n",
       "  <thead>\n",
       "    <tr style=\"text-align: right;\">\n",
       "      <th></th>\n",
       "      <th>0</th>\n",
       "      <th>1</th>\n",
       "      <th>2</th>\n",
       "      <th>3</th>\n",
       "      <th>4</th>\n",
       "      <th>5</th>\n",
       "      <th>6</th>\n",
       "      <th>7</th>\n",
       "      <th>8</th>\n",
       "      <th>9</th>\n",
       "      <th>...</th>\n",
       "      <th>19990</th>\n",
       "      <th>19991</th>\n",
       "      <th>19992</th>\n",
       "      <th>19993</th>\n",
       "      <th>19994</th>\n",
       "      <th>19995</th>\n",
       "      <th>19996</th>\n",
       "      <th>19997</th>\n",
       "      <th>19998</th>\n",
       "      <th>19999</th>\n",
       "    </tr>\n",
       "  </thead>\n",
       "  <tbody>\n",
       "    <tr>\n",
       "      <th>0</th>\n",
       "      <td>0.268421</td>\n",
       "      <td>2.921161</td>\n",
       "      <td>0.563107</td>\n",
       "      <td>8.241893</td>\n",
       "      <td>0.228155</td>\n",
       "      <td>2.271796</td>\n",
       "      <td>0.490291</td>\n",
       "      <td>11.229739</td>\n",
       "      <td>0.506849</td>\n",
       "      <td>5.163233</td>\n",
       "      <td>...</td>\n",
       "      <td>0.432039</td>\n",
       "      <td>5.640037</td>\n",
       "      <td>0.488506</td>\n",
       "      <td>7.777313</td>\n",
       "      <td>0.451219</td>\n",
       "      <td>10.333654</td>\n",
       "      <td>0.493671</td>\n",
       "      <td>7.804301</td>\n",
       "      <td>0.954545</td>\n",
       "      <td>17.563549</td>\n",
       "    </tr>\n",
       "    <tr>\n",
       "      <th>1</th>\n",
       "      <td>0.163158</td>\n",
       "      <td>1.113941</td>\n",
       "      <td>0.640777</td>\n",
       "      <td>7.252319</td>\n",
       "      <td>0.218447</td>\n",
       "      <td>1.105968</td>\n",
       "      <td>0.509709</td>\n",
       "      <td>5.160439</td>\n",
       "      <td>0.356164</td>\n",
       "      <td>3.348906</td>\n",
       "      <td>...</td>\n",
       "      <td>0.305825</td>\n",
       "      <td>7.296195</td>\n",
       "      <td>0.344828</td>\n",
       "      <td>5.567925</td>\n",
       "      <td>0.500000</td>\n",
       "      <td>7.544441</td>\n",
       "      <td>0.474684</td>\n",
       "      <td>6.509088</td>\n",
       "      <td>0.454545</td>\n",
       "      <td>3.834162</td>\n",
       "    </tr>\n",
       "    <tr>\n",
       "      <th>2</th>\n",
       "      <td>0.326316</td>\n",
       "      <td>4.566130</td>\n",
       "      <td>0.592233</td>\n",
       "      <td>9.801344</td>\n",
       "      <td>0.223301</td>\n",
       "      <td>1.534522</td>\n",
       "      <td>0.485437</td>\n",
       "      <td>10.076080</td>\n",
       "      <td>0.541096</td>\n",
       "      <td>7.305917</td>\n",
       "      <td>...</td>\n",
       "      <td>0.495146</td>\n",
       "      <td>3.547104</td>\n",
       "      <td>0.436782</td>\n",
       "      <td>5.023430</td>\n",
       "      <td>0.371951</td>\n",
       "      <td>8.982121</td>\n",
       "      <td>0.506329</td>\n",
       "      <td>6.952520</td>\n",
       "      <td>0.590909</td>\n",
       "      <td>7.598972</td>\n",
       "    </tr>\n",
       "    <tr>\n",
       "      <th>3</th>\n",
       "      <td>0.363158</td>\n",
       "      <td>5.269920</td>\n",
       "      <td>0.558252</td>\n",
       "      <td>11.637791</td>\n",
       "      <td>0.092233</td>\n",
       "      <td>3.691025</td>\n",
       "      <td>0.563107</td>\n",
       "      <td>8.940980</td>\n",
       "      <td>0.500000</td>\n",
       "      <td>6.710880</td>\n",
       "      <td>...</td>\n",
       "      <td>0.606796</td>\n",
       "      <td>4.041457</td>\n",
       "      <td>0.304598</td>\n",
       "      <td>13.743900</td>\n",
       "      <td>0.402439</td>\n",
       "      <td>5.357757</td>\n",
       "      <td>0.531646</td>\n",
       "      <td>11.550533</td>\n",
       "      <td>0.500000</td>\n",
       "      <td>4.829031</td>\n",
       "    </tr>\n",
       "    <tr>\n",
       "      <th>4</th>\n",
       "      <td>0.178947</td>\n",
       "      <td>2.510476</td>\n",
       "      <td>0.563107</td>\n",
       "      <td>7.427470</td>\n",
       "      <td>0.194175</td>\n",
       "      <td>1.375498</td>\n",
       "      <td>0.461165</td>\n",
       "      <td>9.103161</td>\n",
       "      <td>0.465753</td>\n",
       "      <td>7.027081</td>\n",
       "      <td>...</td>\n",
       "      <td>0.456311</td>\n",
       "      <td>5.196375</td>\n",
       "      <td>0.459770</td>\n",
       "      <td>4.680574</td>\n",
       "      <td>0.439024</td>\n",
       "      <td>11.907518</td>\n",
       "      <td>0.512658</td>\n",
       "      <td>6.476917</td>\n",
       "      <td>0.545455</td>\n",
       "      <td>6.123495</td>\n",
       "    </tr>\n",
       "    <tr>\n",
       "      <th>...</th>\n",
       "      <td>...</td>\n",
       "      <td>...</td>\n",
       "      <td>...</td>\n",
       "      <td>...</td>\n",
       "      <td>...</td>\n",
       "      <td>...</td>\n",
       "      <td>...</td>\n",
       "      <td>...</td>\n",
       "      <td>...</td>\n",
       "      <td>...</td>\n",
       "      <td>...</td>\n",
       "      <td>...</td>\n",
       "      <td>...</td>\n",
       "      <td>...</td>\n",
       "      <td>...</td>\n",
       "      <td>...</td>\n",
       "      <td>...</td>\n",
       "      <td>...</td>\n",
       "      <td>...</td>\n",
       "      <td>...</td>\n",
       "      <td>...</td>\n",
       "    </tr>\n",
       "    <tr>\n",
       "      <th>132</th>\n",
       "      <td>0.415789</td>\n",
       "      <td>3.291727</td>\n",
       "      <td>0.533981</td>\n",
       "      <td>7.791546</td>\n",
       "      <td>0.237864</td>\n",
       "      <td>1.423134</td>\n",
       "      <td>0.601942</td>\n",
       "      <td>3.604524</td>\n",
       "      <td>0.520548</td>\n",
       "      <td>4.188052</td>\n",
       "      <td>...</td>\n",
       "      <td>0.446602</td>\n",
       "      <td>4.312071</td>\n",
       "      <td>0.436782</td>\n",
       "      <td>4.076413</td>\n",
       "      <td>0.481707</td>\n",
       "      <td>9.161545</td>\n",
       "      <td>0.487342</td>\n",
       "      <td>9.861870</td>\n",
       "      <td>0.500000</td>\n",
       "      <td>5.215230</td>\n",
       "    </tr>\n",
       "    <tr>\n",
       "      <th>133</th>\n",
       "      <td>0.189474</td>\n",
       "      <td>0.674430</td>\n",
       "      <td>0.533981</td>\n",
       "      <td>8.095456</td>\n",
       "      <td>0.194175</td>\n",
       "      <td>1.805469</td>\n",
       "      <td>0.495146</td>\n",
       "      <td>8.119704</td>\n",
       "      <td>0.472603</td>\n",
       "      <td>4.945912</td>\n",
       "      <td>...</td>\n",
       "      <td>0.417476</td>\n",
       "      <td>5.093260</td>\n",
       "      <td>0.419540</td>\n",
       "      <td>8.001760</td>\n",
       "      <td>0.359756</td>\n",
       "      <td>4.473879</td>\n",
       "      <td>0.462025</td>\n",
       "      <td>5.986087</td>\n",
       "      <td>0.181818</td>\n",
       "      <td>1.375361</td>\n",
       "    </tr>\n",
       "    <tr>\n",
       "      <th>134</th>\n",
       "      <td>0.357895</td>\n",
       "      <td>2.285860</td>\n",
       "      <td>0.597087</td>\n",
       "      <td>7.769724</td>\n",
       "      <td>0.291262</td>\n",
       "      <td>2.444241</td>\n",
       "      <td>0.572816</td>\n",
       "      <td>10.187362</td>\n",
       "      <td>0.506849</td>\n",
       "      <td>3.061164</td>\n",
       "      <td>...</td>\n",
       "      <td>0.359223</td>\n",
       "      <td>5.472654</td>\n",
       "      <td>0.580460</td>\n",
       "      <td>12.764709</td>\n",
       "      <td>0.414634</td>\n",
       "      <td>8.612001</td>\n",
       "      <td>0.468354</td>\n",
       "      <td>7.330034</td>\n",
       "      <td>0.500000</td>\n",
       "      <td>7.295849</td>\n",
       "    </tr>\n",
       "    <tr>\n",
       "      <th>135</th>\n",
       "      <td>0.142105</td>\n",
       "      <td>0.774721</td>\n",
       "      <td>0.529126</td>\n",
       "      <td>8.635578</td>\n",
       "      <td>0.339806</td>\n",
       "      <td>2.448869</td>\n",
       "      <td>0.553398</td>\n",
       "      <td>8.940462</td>\n",
       "      <td>0.493151</td>\n",
       "      <td>5.773390</td>\n",
       "      <td>...</td>\n",
       "      <td>0.422330</td>\n",
       "      <td>3.582950</td>\n",
       "      <td>0.471264</td>\n",
       "      <td>7.323222</td>\n",
       "      <td>0.439024</td>\n",
       "      <td>4.532538</td>\n",
       "      <td>0.474684</td>\n",
       "      <td>6.705611</td>\n",
       "      <td>0.545455</td>\n",
       "      <td>5.947022</td>\n",
       "    </tr>\n",
       "    <tr>\n",
       "      <th>136</th>\n",
       "      <td>0.431579</td>\n",
       "      <td>3.372479</td>\n",
       "      <td>0.548544</td>\n",
       "      <td>9.236876</td>\n",
       "      <td>0.252427</td>\n",
       "      <td>1.976830</td>\n",
       "      <td>0.553398</td>\n",
       "      <td>8.800306</td>\n",
       "      <td>0.554795</td>\n",
       "      <td>6.247300</td>\n",
       "      <td>...</td>\n",
       "      <td>0.402913</td>\n",
       "      <td>3.850661</td>\n",
       "      <td>0.442529</td>\n",
       "      <td>9.027041</td>\n",
       "      <td>0.451219</td>\n",
       "      <td>8.493415</td>\n",
       "      <td>0.506329</td>\n",
       "      <td>6.990358</td>\n",
       "      <td>0.500000</td>\n",
       "      <td>6.401647</td>\n",
       "    </tr>\n",
       "  </tbody>\n",
       "</table>\n",
       "<p>137 rows × 20000 columns</p>\n",
       "</div>"
      ],
      "text/plain": [
       "        0         1         2          3         4         5         6      \\\n",
       "0    0.268421  2.921161  0.563107   8.241893  0.228155  2.271796  0.490291   \n",
       "1    0.163158  1.113941  0.640777   7.252319  0.218447  1.105968  0.509709   \n",
       "2    0.326316  4.566130  0.592233   9.801344  0.223301  1.534522  0.485437   \n",
       "3    0.363158  5.269920  0.558252  11.637791  0.092233  3.691025  0.563107   \n",
       "4    0.178947  2.510476  0.563107   7.427470  0.194175  1.375498  0.461165   \n",
       "..        ...       ...       ...        ...       ...       ...       ...   \n",
       "132  0.415789  3.291727  0.533981   7.791546  0.237864  1.423134  0.601942   \n",
       "133  0.189474  0.674430  0.533981   8.095456  0.194175  1.805469  0.495146   \n",
       "134  0.357895  2.285860  0.597087   7.769724  0.291262  2.444241  0.572816   \n",
       "135  0.142105  0.774721  0.529126   8.635578  0.339806  2.448869  0.553398   \n",
       "136  0.431579  3.372479  0.548544   9.236876  0.252427  1.976830  0.553398   \n",
       "\n",
       "         7         8         9      ...     19990     19991     19992  \\\n",
       "0    11.229739  0.506849  5.163233  ...  0.432039  5.640037  0.488506   \n",
       "1     5.160439  0.356164  3.348906  ...  0.305825  7.296195  0.344828   \n",
       "2    10.076080  0.541096  7.305917  ...  0.495146  3.547104  0.436782   \n",
       "3     8.940980  0.500000  6.710880  ...  0.606796  4.041457  0.304598   \n",
       "4     9.103161  0.465753  7.027081  ...  0.456311  5.196375  0.459770   \n",
       "..         ...       ...       ...  ...       ...       ...       ...   \n",
       "132   3.604524  0.520548  4.188052  ...  0.446602  4.312071  0.436782   \n",
       "133   8.119704  0.472603  4.945912  ...  0.417476  5.093260  0.419540   \n",
       "134  10.187362  0.506849  3.061164  ...  0.359223  5.472654  0.580460   \n",
       "135   8.940462  0.493151  5.773390  ...  0.422330  3.582950  0.471264   \n",
       "136   8.800306  0.554795  6.247300  ...  0.402913  3.850661  0.442529   \n",
       "\n",
       "         19993     19994      19995     19996      19997     19998      19999  \n",
       "0     7.777313  0.451219  10.333654  0.493671   7.804301  0.954545  17.563549  \n",
       "1     5.567925  0.500000   7.544441  0.474684   6.509088  0.454545   3.834162  \n",
       "2     5.023430  0.371951   8.982121  0.506329   6.952520  0.590909   7.598972  \n",
       "3    13.743900  0.402439   5.357757  0.531646  11.550533  0.500000   4.829031  \n",
       "4     4.680574  0.439024  11.907518  0.512658   6.476917  0.545455   6.123495  \n",
       "..         ...       ...        ...       ...        ...       ...        ...  \n",
       "132   4.076413  0.481707   9.161545  0.487342   9.861870  0.500000   5.215230  \n",
       "133   8.001760  0.359756   4.473879  0.462025   5.986087  0.181818   1.375361  \n",
       "134  12.764709  0.414634   8.612001  0.468354   7.330034  0.500000   7.295849  \n",
       "135   7.323222  0.439024   4.532538  0.474684   6.705611  0.545455   5.947022  \n",
       "136   9.027041  0.451219   8.493415  0.506329   6.990358  0.500000   6.401647  \n",
       "\n",
       "[137 rows x 20000 columns]"
      ]
     },
     "execution_count": 32,
     "metadata": {},
     "output_type": "execute_result"
    }
   ],
   "source": [
    "X_train_transform"
   ]
  },
  {
   "cell_type": "code",
   "execution_count": 33,
   "id": "ea445fcc",
   "metadata": {},
   "outputs": [],
   "source": [
    "classifier = RidgeClassifier()"
   ]
  },
  {
   "cell_type": "code",
   "execution_count": 34,
   "id": "8f922755",
   "metadata": {},
   "outputs": [
    {
     "data": {
      "text/html": [
       "<style>#sk-container-id-5 {color: black;background-color: white;}#sk-container-id-5 pre{padding: 0;}#sk-container-id-5 div.sk-toggleable {background-color: white;}#sk-container-id-5 label.sk-toggleable__label {cursor: pointer;display: block;width: 100%;margin-bottom: 0;padding: 0.3em;box-sizing: border-box;text-align: center;}#sk-container-id-5 label.sk-toggleable__label-arrow:before {content: \"▸\";float: left;margin-right: 0.25em;color: #696969;}#sk-container-id-5 label.sk-toggleable__label-arrow:hover:before {color: black;}#sk-container-id-5 div.sk-estimator:hover label.sk-toggleable__label-arrow:before {color: black;}#sk-container-id-5 div.sk-toggleable__content {max-height: 0;max-width: 0;overflow: hidden;text-align: left;background-color: #f0f8ff;}#sk-container-id-5 div.sk-toggleable__content pre {margin: 0.2em;color: black;border-radius: 0.25em;background-color: #f0f8ff;}#sk-container-id-5 input.sk-toggleable__control:checked~div.sk-toggleable__content {max-height: 200px;max-width: 100%;overflow: auto;}#sk-container-id-5 input.sk-toggleable__control:checked~label.sk-toggleable__label-arrow:before {content: \"▾\";}#sk-container-id-5 div.sk-estimator input.sk-toggleable__control:checked~label.sk-toggleable__label {background-color: #d4ebff;}#sk-container-id-5 div.sk-label input.sk-toggleable__control:checked~label.sk-toggleable__label {background-color: #d4ebff;}#sk-container-id-5 input.sk-hidden--visually {border: 0;clip: rect(1px 1px 1px 1px);clip: rect(1px, 1px, 1px, 1px);height: 1px;margin: -1px;overflow: hidden;padding: 0;position: absolute;width: 1px;}#sk-container-id-5 div.sk-estimator {font-family: monospace;background-color: #f0f8ff;border: 1px dotted black;border-radius: 0.25em;box-sizing: border-box;margin-bottom: 0.5em;}#sk-container-id-5 div.sk-estimator:hover {background-color: #d4ebff;}#sk-container-id-5 div.sk-parallel-item::after {content: \"\";width: 100%;border-bottom: 1px solid gray;flex-grow: 1;}#sk-container-id-5 div.sk-label:hover label.sk-toggleable__label {background-color: #d4ebff;}#sk-container-id-5 div.sk-serial::before {content: \"\";position: absolute;border-left: 1px solid gray;box-sizing: border-box;top: 0;bottom: 0;left: 50%;z-index: 0;}#sk-container-id-5 div.sk-serial {display: flex;flex-direction: column;align-items: center;background-color: white;padding-right: 0.2em;padding-left: 0.2em;position: relative;}#sk-container-id-5 div.sk-item {position: relative;z-index: 1;}#sk-container-id-5 div.sk-parallel {display: flex;align-items: stretch;justify-content: center;background-color: white;position: relative;}#sk-container-id-5 div.sk-item::before, #sk-container-id-5 div.sk-parallel-item::before {content: \"\";position: absolute;border-left: 1px solid gray;box-sizing: border-box;top: 0;bottom: 0;left: 50%;z-index: -1;}#sk-container-id-5 div.sk-parallel-item {display: flex;flex-direction: column;z-index: 1;position: relative;background-color: white;}#sk-container-id-5 div.sk-parallel-item:first-child::after {align-self: flex-end;width: 50%;}#sk-container-id-5 div.sk-parallel-item:last-child::after {align-self: flex-start;width: 50%;}#sk-container-id-5 div.sk-parallel-item:only-child::after {width: 0;}#sk-container-id-5 div.sk-dashed-wrapped {border: 1px dashed gray;margin: 0 0.4em 0.5em 0.4em;box-sizing: border-box;padding-bottom: 0.4em;background-color: white;}#sk-container-id-5 div.sk-label label {font-family: monospace;font-weight: bold;display: inline-block;line-height: 1.2em;}#sk-container-id-5 div.sk-label-container {text-align: center;}#sk-container-id-5 div.sk-container {/* jupyter's `normalize.less` sets `[hidden] { display: none; }` but bootstrap.min.css set `[hidden] { display: none !important; }` so we also need the `!important` here to be able to override the default hidden behavior on the sphinx rendered scikit-learn.org. See: https://github.com/scikit-learn/scikit-learn/issues/21755 */display: inline-block !important;position: relative;}#sk-container-id-5 div.sk-text-repr-fallback {display: none;}</style><div id=\"sk-container-id-5\" class=\"sk-top-container\"><div class=\"sk-text-repr-fallback\"><pre>RidgeClassifier()</pre><b>In a Jupyter environment, please rerun this cell to show the HTML representation or trust the notebook. <br />On GitHub, the HTML representation is unable to render, please try loading this page with nbviewer.org.</b></div><div class=\"sk-container\" hidden><div class=\"sk-item\"><div class=\"sk-estimator sk-toggleable\"><input class=\"sk-toggleable__control sk-hidden--visually\" id=\"sk-estimator-id-5\" type=\"checkbox\" checked><label for=\"sk-estimator-id-5\" class=\"sk-toggleable__label sk-toggleable__label-arrow\">RidgeClassifier</label><div class=\"sk-toggleable__content\"><pre>RidgeClassifier()</pre></div></div></div></div></div>"
      ],
      "text/plain": [
       "RidgeClassifier()"
      ]
     },
     "execution_count": 34,
     "metadata": {},
     "output_type": "execute_result"
    }
   ],
   "source": [
    "classifier.fit(X_train_transform, y_train)"
   ]
  },
  {
   "cell_type": "code",
   "execution_count": 35,
   "id": "29d5218a",
   "metadata": {},
   "outputs": [
    {
     "data": {
      "text/plain": [
       "1.0"
      ]
     },
     "execution_count": 35,
     "metadata": {},
     "output_type": "execute_result"
    }
   ],
   "source": [
    "classifier.score(X_train_transform, y_train)"
   ]
  },
  {
   "cell_type": "code",
   "execution_count": 39,
   "id": "302c2d17",
   "metadata": {},
   "outputs": [],
   "source": [
    "X_test_transform = rocket.transform(X_test)"
   ]
  },
  {
   "cell_type": "code",
   "execution_count": 102,
   "id": "d75881f6",
   "metadata": {},
   "outputs": [],
   "source": [
    "def print_cv_metrics(classifier, X_test, y_test):\n",
    "    y_pred = classifier.predict(X_test).round()\n",
    "    acc = accuracy_score(y_test, y_pred)\n",
    "    prec = precision_score(y_test, y_pred, average='weighted')\n",
    "    rec = recall_score(y_test, y_pred, average='weighted')\n",
    "    f1 = f1_score(y_test, y_pred, average='weighted')\n",
    "    print(f'{classifier} ->')\n",
    "    print(f'Accuracy: {acc:.4f}')\n",
    "    print(f'Precision: {prec:.4f}')\n",
    "    print(f'recall: {rec:.4f}')\n",
    "    print(f'F1: {f1:.4f}\\n')\n",
    "    display(ConfusionMatrixDisplay(confusion_matrix(y_test, y_pred)).plot())\n",
    "    return {\n",
    "        'accuracy': acc,\n",
    "        'precision': prec,\n",
    "        'recall': rec,\n",
    "        'f1': f1\n",
    "    }"
   ]
  },
  {
   "cell_type": "code",
   "execution_count": 58,
   "id": "d73d9a6d",
   "metadata": {},
   "outputs": [],
   "source": [
    "res_df = pd.DataFrame()"
   ]
  },
  {
   "cell_type": "code",
   "execution_count": 59,
   "id": "681caccd",
   "metadata": {},
   "outputs": [
    {
     "name": "stdout",
     "output_type": "stream",
     "text": [
      "RidgeClassifier() ->\n",
      "Accuracy: 0.9783\n",
      "Precision: 0.9789\n",
      "recall: 0.9783\n",
      "F1: 0.9783\n",
      "\n"
     ]
    },
    {
     "data": {
      "text/plain": [
       "<sklearn.metrics._plot.confusion_matrix.ConfusionMatrixDisplay at 0x19a380e0730>"
      ]
     },
     "metadata": {},
     "output_type": "display_data"
    },
    {
     "name": "stderr",
     "output_type": "stream",
     "text": [
      "C:\\Users\\Lucas\\AppData\\Local\\Temp\\ipykernel_10028\\3712165910.py:1: FutureWarning: The frame.append method is deprecated and will be removed from pandas in a future version. Use pandas.concat instead.\n",
      "  res_df = res_df.append(pd.DataFrame(data=print_cv_metrics(classifier), index=['ridge on rocket']))\n"
     ]
    },
    {
     "data": {
      "image/png": "[encoded data removed]",
      "text/plain": [
       "<Figure size 432x288 with 2 Axes>"
      ]
     },
     "metadata": {
      "needs_background": "light"
     },
     "output_type": "display_data"
    }
   ],
   "source": [
    "res_df = res_df.append(pd.DataFrame(data=print_cv_metrics(classifier, X_test_transform, y_test), index=['ridge on rocket']))"
   ]
  },
  {
   "cell_type": "code",
   "execution_count": 78,
   "id": "82e4965f",
   "metadata": {},
   "outputs": [
    {
     "data": {
      "text/plain": [
       "({'walking': 0, 'epilepsy': 1, 'running': 2, 'sawing': 3},\n",
       " {0: 'walking', 1: 'epilepsy', 2: 'running', 3: 'sawing'})"
      ]
     },
     "execution_count": 78,
     "metadata": {},
     "output_type": "execute_result"
    }
   ],
   "source": [
    "label_encoder = {label: i for i, label in enumerate(set(y_train))}\n",
    "label_decoder = {i: label for label, i in label_encoder.items()}\n",
    "label_encoder, label_decoder"
   ]
  },
  {
   "cell_type": "code",
   "execution_count": 84,
   "id": "203569ec",
   "metadata": {},
   "outputs": [],
   "source": [
    "encoded_y_train = [label_encoder[label] for label in y_train]"
   ]
  },
  {
   "cell_type": "code",
   "execution_count": 86,
   "id": "53bbb266",
   "metadata": {},
   "outputs": [],
   "source": [
    "dtrain = xgb.DMatrix(X_train_transform, encoded_y_train)"
   ]
  },
  {
   "cell_type": "code",
   "execution_count": 87,
   "id": "0307276d",
   "metadata": {},
   "outputs": [],
   "source": [
    "booster = xgb.train({}, dtrain)"
   ]
  },
  {
   "cell_type": "code",
   "execution_count": 88,
   "id": "d6b44bd9",
   "metadata": {},
   "outputs": [
    {
     "data": {
      "text/plain": [
       "<xgboost.core.Booster at 0x19a43c79a60>"
      ]
     },
     "execution_count": 88,
     "metadata": {},
     "output_type": "execute_result"
    }
   ],
   "source": [
    "booster"
   ]
  },
  {
   "cell_type": "code",
   "execution_count": 91,
   "id": "f8028a38",
   "metadata": {},
   "outputs": [],
   "source": [
    "encoded_y_test = [label_encoder[label] for label in y_test]"
   ]
  },
  {
   "cell_type": "code",
   "execution_count": 96,
   "id": "0ac0061c",
   "metadata": {},
   "outputs": [],
   "source": [
    "dxtest = xgb.DMatrix(X_test_transform)"
   ]
  },
  {
   "cell_type": "code",
   "execution_count": 103,
   "id": "47995abf",
   "metadata": {},
   "outputs": [
    {
     "name": "stdout",
     "output_type": "stream",
     "text": [
      "<xgboost.core.Booster object at 0x0000019A43C79A60> ->\n",
      "Accuracy: 0.8188\n",
      "Precision: 0.8288\n",
      "recall: 0.8188\n",
      "F1: 0.8186\n",
      "\n"
     ]
    },
    {
     "data": {
      "text/plain": [
       "<sklearn.metrics._plot.confusion_matrix.ConfusionMatrixDisplay at 0x19a43d59310>"
      ]
     },
     "metadata": {},
     "output_type": "display_data"
    },
    {
     "name": "stderr",
     "output_type": "stream",
     "text": [
      "C:\\Users\\Lucas\\AppData\\Local\\Temp\\ipykernel_10028\\4045474285.py:1: FutureWarning: The frame.append method is deprecated and will be removed from pandas in a future version. Use pandas.concat instead.\n",
      "  res_df = res_df.append(pd.DataFrame(data=print_cv_metrics(booster, dxtest, encoded_y_test), index=['xgb on rocket']))\n"
     ]
    },
    {
     "data": {
      "image/png": "[encoded data removed]",
      "text/plain": [
       "<Figure size 432x288 with 2 Axes>"
      ]
     },
     "metadata": {
      "needs_background": "light"
     },
     "output_type": "display_data"
    }
   ],
   "source": [
    "res_df = res_df.append(pd.DataFrame(data=print_cv_metrics(booster, dxtest, encoded_y_test), index=['xgb on rocket']))"
   ]
  },
  {
   "cell_type": "code",
   "execution_count": 111,
   "id": "71011df0",
   "metadata": {},
   "outputs": [
    {
     "data": {
      "text/html": [
       "<div>\n",
       "<style scoped>\n",
       "    .dataframe tbody tr th:only-of-type {\n",
       "        vertical-align: middle;\n",
       "    }\n",
       "\n",
       "    .dataframe tbody tr th {\n",
       "        vertical-align: top;\n",
       "    }\n",
       "\n",
       "    .dataframe thead th {\n",
       "        text-align: right;\n",
       "    }\n",
       "</style>\n",
       "<table border=\"1\" class=\"dataframe\">\n",
       "  <thead>\n",
       "    <tr style=\"text-align: right;\">\n",
       "      <th></th>\n",
       "      <th>accuracy</th>\n",
       "      <th>precision</th>\n",
       "      <th>recall</th>\n",
       "      <th>f1</th>\n",
       "    </tr>\n",
       "  </thead>\n",
       "  <tbody>\n",
       "    <tr>\n",
       "      <th>ridge on rocket</th>\n",
       "      <td>0.978261</td>\n",
       "      <td>0.978947</td>\n",
       "      <td>0.978261</td>\n",
       "      <td>0.978283</td>\n",
       "    </tr>\n",
       "    <tr>\n",
       "      <th>xgb on rocket</th>\n",
       "      <td>0.818841</td>\n",
       "      <td>0.828797</td>\n",
       "      <td>0.818841</td>\n",
       "      <td>0.818600</td>\n",
       "    </tr>\n",
       "  </tbody>\n",
       "</table>\n",
       "</div>"
      ],
      "text/plain": [
       "                 accuracy  precision    recall        f1\n",
       "ridge on rocket  0.978261   0.978947  0.978261  0.978283\n",
       "xgb on rocket    0.818841   0.828797  0.818841  0.818600"
      ]
     },
     "execution_count": 111,
     "metadata": {},
     "output_type": "execute_result"
    }
   ],
   "source": [
    "res_df.sort_values('f1', ascending=False)"
   ]
  }
 ],
 "metadata": {
  "kernelspec": {
   "display_name": "Python 3 (ipykernel)",
   "language": "python",
   "name": "python3"
  },
  "language_info": {
   "codemirror_mode": {
    "name": "ipython",
    "version": 3
   },
   "file_extension": ".py",
   "mimetype": "text/x-python",
   "name": "python",
   "nbconvert_exporter": "python",
   "pygments_lexer": "ipython3",
   "version": "3.8.13"
  }
 },
 "nbformat": 4,
 "nbformat_minor": 5
}
